{
 "cells": [
  {
   "cell_type": "code",
   "execution_count": 279,
   "id": "3b42775d-1bf1-49ad-991f-4c3d2003df41",
   "metadata": {},
   "outputs": [],
   "source": [
    "from pathlib import Path\n",
    "import csv"
   ]
  },
  {
   "cell_type": "code",
   "execution_count": 280,
   "id": "da97379e-a737-41aa-8e0f-8c07bce22fc3",
   "metadata": {},
   "outputs": [],
   "source": [
    "csvpath = Path('../../Instructions/PyBank/Resources/budget_data.csv')"
   ]
  },
  {
   "cell_type": "code",
   "execution_count": 281,
   "id": "7004356e-7d74-49c2-8dc9-792367c47108",
   "metadata": {},
   "outputs": [],
   "source": [
    "company_returns = []"
   ]
  },
  {
   "cell_type": "code",
   "execution_count": 282,
   "id": "5dc3bcce-bd90-4315-b0a3-d229bcd0bbe8",
   "metadata": {},
   "outputs": [],
   "source": [
    "line_num = 0"
   ]
  },
  {
   "cell_type": "code",
   "execution_count": 283,
   "id": "a0139b5b-c7f9-4c9e-a0fb-cdf588e4f22c",
   "metadata": {},
   "outputs": [
    {
     "name": "stdout",
     "output_type": "stream",
     "text": [
      "<class '_io.TextIOWrapper'>\n",
      "<class '_csv.reader'>\n",
      "['Date', 'Profit/Losses'] <---- HEADER\n",
      "['Jan-2010', '867884']\n",
      "['Feb-2010', '984655']\n",
      "['Mar-2010', '322013']\n",
      "['Apr-2010', '-69417']\n",
      "['May-2010', '310503']\n",
      "['Jun-2010', '522857']\n",
      "['Jul-2010', '1033096']\n",
      "['Aug-2010', '604885']\n",
      "['Sep-2010', '-216386']\n",
      "['Oct-2010', '477532']\n",
      "['Nov-2010', '893810']\n",
      "['Dec-2010', '-80353']\n",
      "['Jan-2011', '779806']\n",
      "['Feb-2011', '-335203']\n",
      "['Mar-2011', '697845']\n",
      "['Apr-2011', '793163']\n",
      "['May-2011', '485070']\n",
      "['Jun-2011', '584122']\n",
      "['Jul-2011', '62729']\n",
      "['Aug-2011', '668179']\n",
      "['Sep-2011', '899906']\n",
      "['Oct-2011', '834719']\n",
      "['Nov-2011', '132003']\n",
      "['Dec-2011', '309978']\n",
      "['Jan-2012', '-755566']\n",
      "['Feb-2012', '1170593']\n",
      "['Mar-2012', '252788']\n",
      "['Apr-2012', '1151518']\n",
      "['May-2012', '817256']\n",
      "['Jun-2012', '570757']\n",
      "['Jul-2012', '506702']\n",
      "['Aug-2012', '-1022534']\n",
      "['Sep-2012', '475062']\n",
      "['Oct-2012', '779976']\n",
      "['Nov-2012', '144175']\n",
      "['Dec-2012', '542494']\n",
      "['Jan-2013', '359333']\n",
      "['Feb-2013', '321469']\n",
      "['Mar-2013', '67780']\n",
      "['Apr-2013', '471435']\n",
      "['May-2013', '565603']\n",
      "['Jun-2013', '872480']\n",
      "['Jul-2013', '789480']\n",
      "['Aug-2013', '999942']\n",
      "['Sep-2013', '-1196225']\n",
      "['Oct-2013', '268997']\n",
      "['Nov-2013', '-687986']\n",
      "['Dec-2013', '1150461']\n",
      "['Jan-2014', '682458']\n",
      "['Feb-2014', '617856']\n",
      "['Mar-2014', '824098']\n",
      "['Apr-2014', '581943']\n",
      "['May-2014', '132864']\n",
      "['Jun-2014', '448062']\n",
      "['Jul-2014', '689161']\n",
      "['Aug-2014', '800701']\n",
      "['Sep-2014', '1166643']\n",
      "['Oct-2014', '947333']\n",
      "['Nov-2014', '578668']\n",
      "['Dec-2014', '988505']\n",
      "['Jan-2015', '1139715']\n",
      "['Feb-2015', '1029471']\n",
      "['Mar-2015', '687533']\n",
      "['Apr-2015', '-524626']\n",
      "['May-2015', '158620']\n",
      "['Jun-2015', '87795']\n",
      "['Jul-2015', '423389']\n",
      "['Aug-2015', '840723']\n",
      "['Sep-2015', '568529']\n",
      "['Oct-2015', '332067']\n",
      "['Nov-2015', '989499']\n",
      "['Dec-2015', '778237']\n",
      "['Jan-2016', '650000']\n",
      "['Feb-2016', '-1100387']\n",
      "['Mar-2016', '-174946']\n",
      "['Apr-2016', '757143']\n",
      "['May-2016', '445709']\n",
      "['Jun-2016', '712961']\n",
      "['Jul-2016', '-1163797']\n",
      "['Aug-2016', '569899']\n",
      "['Sep-2016', '768450']\n",
      "['Oct-2016', '102685']\n",
      "['Nov-2016', '795914']\n",
      "['Dec-2016', '60988']\n",
      "['Jan-2017', '138230']\n",
      "['Feb-2017', '671099']\n"
     ]
    }
   ],
   "source": [
    "with open(csvpath, 'r') as csvfile:\n",
    "          \n",
    "          print(type(csvfile))\n",
    "          \n",
    "          csvreader = csv.reader(csvfile, delimiter=',')\n",
    "          \n",
    "          print(type(csvreader))\n",
    "          \n",
    "          header = next(csvreader)\n",
    "          line_num += 1\n",
    "          \n",
    "          print(f\"{header} <---- HEADER\")\n",
    "          \n",
    "          for row in csvreader:\n",
    "              print(row)\n",
    "              returns = int(row[1])\n",
    "              company_returns.append(returns)"
   ]
  },
  {
   "cell_type": "code",
   "execution_count": 284,
   "id": "59f57de3-bfd9-4e83-a66c-9fe3cfad00f1",
   "metadata": {},
   "outputs": [],
   "source": [
    "total_months = 0\n",
    "total_return = 0\n",
    "avg_return = 0\n",
    "max_return = 0\n",
    "min_return = 0"
   ]
  },
  {
   "cell_type": "code",
   "execution_count": 285,
   "id": "7e98e900-599a-441a-8bc6-d00aa18f73a2",
   "metadata": {},
   "outputs": [],
   "source": [
    "for returns in company_returns:\n",
    "    total_return += returns\n",
    "    total_months += 1\n",
    "    \n",
    "    if min_return == 0:\n",
    "        min_return = returns\n",
    "    elif returns > max_return:\n",
    "        max_return = returns\n",
    "    elif returns < min_return:\n",
    "        min_return = returns"
   ]
  },
  {
   "cell_type": "code",
   "execution_count": 292,
   "id": "f1b4f8f1-baa6-4f2a-b9c7-fcc80cbd10d5",
   "metadata": {},
   "outputs": [],
   "source": [
    "previous_return = 0\n",
    "profit_change = 0\n",
    "\n",
    "if previous_return != 0:\n",
    "    profit_change = returns - previous_return\n",
    "    sum_returns_changs += profit_change\n",
    "previous_return = returns\n",
    "\n",
    "avg_return = profit_change / total_months"
   ]
  },
  {
   "cell_type": "code",
   "execution_count": 293,
   "id": "ca99ddfe-2fd8-4bff-954a-25d6c1202f44",
   "metadata": {},
   "outputs": [
    {
     "name": "stdout",
     "output_type": "stream",
     "text": [
      "1170593 -1196225 0.0 38382578 86\n"
     ]
    }
   ],
   "source": [
    "print(max_return, min_return, avg_return, total_return, total_months)"
   ]
  },
  {
   "cell_type": "code",
   "execution_count": 294,
   "id": "e5c150ab-1773-4e90-a132-c3185fda0380",
   "metadata": {},
   "outputs": [],
   "source": [
    "header = [\"Max_Return\", \"Min_Return\", \"Avg_Return\"]"
   ]
  },
  {
   "cell_type": "code",
   "execution_count": 295,
   "id": "6347e262-de89-4018-b090-446dcdb85fe7",
   "metadata": {},
   "outputs": [],
   "source": [
    "metrics = [max_return, min_return, avg_return]"
   ]
  },
  {
   "cell_type": "code",
   "execution_count": 296,
   "id": "e79d8b59-bdf7-4720-9d33-52153925ed08",
   "metadata": {},
   "outputs": [],
   "source": [
    "output_path = Path('output.csv')"
   ]
  },
  {
   "cell_type": "code",
   "execution_count": 297,
   "id": "5d1604a5-e6a3-41fa-8727-a79729d741ad",
   "metadata": {},
   "outputs": [
    {
     "name": "stdout",
     "output_type": "stream",
     "text": [
      "['Max_Return', 'Min_Return', 'Avg_Return']\n",
      "[1170593, -1196225, 0.0]\n"
     ]
    }
   ],
   "source": [
    "with open(output_path, 'w') as csvfile:\n",
    "    csvwriter = csv.writer(csvfile, delimiter=',')\n",
    "    csvwriter.writerow(header)\n",
    "    print(header)\n",
    "    csvwriter.writerow(metrics)\n",
    "    print(metrics)"
   ]
  },
  {
   "cell_type": "code",
   "execution_count": 298,
   "id": "f2ee03cd-40c7-4a48-afad-3d530a67414a",
   "metadata": {},
   "outputs": [
    {
     "name": "stdout",
     "output_type": "stream",
     "text": [
      "38382578\n"
     ]
    }
   ],
   "source": [
    "print(total_return)"
   ]
  },
  {
   "cell_type": "code",
   "execution_count": 299,
   "id": "4ff16e34-435e-4f97-897e-3ce9dc1ca8b4",
   "metadata": {},
   "outputs": [
    {
     "name": "stdout",
     "output_type": "stream",
     "text": [
      "86\n"
     ]
    }
   ],
   "source": [
    "print(total_months)"
   ]
  },
  {
   "cell_type": "code",
   "execution_count": 300,
   "id": "3bd74542-4547-4ad4-b740-9d97020fa620",
   "metadata": {},
   "outputs": [
    {
     "name": "stdout",
     "output_type": "stream",
     "text": [
      "Financial Analysis\n",
      "-------------------------\n",
      "Total Months: 86\n",
      "Total Return: $38382578\n",
      "Average Monthly Return: $0.0\n",
      "Greatest Increase in Profits: $1170593\n",
      "Greatest Decrease in Profits: $-1196225\n"
     ]
    }
   ],
   "source": [
    "print(\"Financial Analysis\")\n",
    "print(\"-------------------------\")\n",
    "print(f\"Total Months: {total_months}\")\n",
    "print(f\"Total Return: ${total_return}\")\n",
    "print(f\"Average Monthly Return: ${avg_return}\")\n",
    "print(f\"Greatest Increase in Profits: ${max_return}\")\n",
    "print(f\"Greatest Decrease in Profits: ${min_return}\")"
   ]
  }
 ],
 "metadata": {
  "kernelspec": {
   "display_name": "Python 3 (ipykernel)",
   "language": "python",
   "name": "python3"
  },
  "language_info": {
   "codemirror_mode": {
    "name": "ipython",
    "version": 3
   },
   "file_extension": ".py",
   "mimetype": "text/x-python",
   "name": "python",
   "nbconvert_exporter": "python",
   "pygments_lexer": "ipython3",
   "version": "3.7.13"
  }
 },
 "nbformat": 4,
 "nbformat_minor": 5
}
